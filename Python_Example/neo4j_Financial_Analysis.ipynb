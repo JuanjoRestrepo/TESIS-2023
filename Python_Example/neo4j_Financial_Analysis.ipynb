{
 "cells": [
  {
   "cell_type": "code",
   "execution_count": 1,
   "metadata": {},
   "outputs": [],
   "source": [
    "import numpy as np\n",
    "import random\n",
    "import pandas as pd\n"
   ]
  },
  {
   "cell_type": "code",
   "execution_count": 2,
   "metadata": {},
   "outputs": [],
   "source": [
    "#ID Unico de Transaccion\n",
    "id_transaccion = []\n",
    "for i in range(1, 50001):\n",
    "    id_transaccion.append(i)\n",
    "\n",
    "#print(id_transaccion)\n",
    "\n",
    "#Numero de cliente/vendedor\n",
    "numero_vendedor = np.random.randint(low = 1, high = 2500, size = (50000,) )\n",
    "\n",
    "#Cantidad de transaccion USD\n",
    "cant_transaccion = np.random.randint(low = 20, high = 1250000, size = (50000))\n",
    "\n",
    "#Tipo de transaccion\n",
    "tipo_transaccion =['retiro_efectivo', 'deposito_dinero', 'transferencia_domestica', 'transferencia_internacional']\n",
    "\n",
    "#generar lista de enteros randoms\n",
    "random_integers = []\n",
    "for i in range(0, 50000):\n",
    "    random_num = random.randint(0,3)\n",
    "    random_integers.append(random_num)\n",
    "\n",
    "lista_transaccion = []\n",
    "for i in random_integers:\n",
    "    lista_transaccion.append(tipo_transaccion[i])\n",
    "\n",
    "data_transacciones = {\n",
    "    \"ID_Transaccion\" : id_transaccion,\n",
    "    \"Numero_Vendedor\" : list(numero_vendedor),\n",
    "    \"Cantidad_Transferida\" : list(cant_transaccion),\n",
    "    \"Tipo_Transaccion\" : lista_transaccion,\n",
    "}\n",
    "\n",
    "dataFrame_transacciones = pd.DataFrame(data_transacciones)\n",
    "\n",
    "#print(dataFrame_transacciones[:20])"
   ]
  },
  {
   "cell_type": "code",
   "execution_count": 3,
   "metadata": {},
   "outputs": [
    {
     "name": "stdout",
     "output_type": "stream",
     "text": [
      "ALL DONE!\n",
      "\n"
     ]
    }
   ],
   "source": [
    "from neo4j import GraphDatabase\n",
    "\n",
    "#comandos para escribir datos en la DB\n",
    "lista_transaccion = dataFrame_transacciones.values.tolist()\n",
    "comandos_ejecucion_transaccion = []\n",
    "\n",
    "for i in lista_transaccion:\n",
    "    #neo4j_create_statement = \"create (t:Transaccion {id_transaccion:\" + str(i[0]) + \", numero_vendedor: \" + str(i[1]) + \", cant_transaccion: \" + str(i[2]) + \", tipo_transaccion: \" + str(i[3]) +  \"'}) \"\n",
    "\n",
    "    neo4j_create_statement = \"merge (t:Transaction {transaction_id:\" + str(i[0]) + \", vendor_number:  \" + str(i[1]) +\", transaction_amount: \" + str(i[2]) +\", transaction_type: '\" + str(i[3]) + \"'})\"\n",
    "\n",
    "    comandos_ejecucion_transaccion.append(neo4j_create_statement)\n",
    "\n",
    "#NEW PASSWORD:   password123\n",
    "def ejecutar_transacciones(comandos_ejecucion_transaccion):\n",
    "    conexion_DB = GraphDatabase.driver(uri = \"bolt://localhost:7687\", auth = (\"neo4j\", \"password123\") )\n",
    "    session = conexion_DB.session()\n",
    "    for i in comandos_ejecucion_transaccion:\n",
    "        session.run(i)\n",
    "\n",
    "ejecutar_transacciones(comandos_ejecucion_transaccion)\n",
    "\n",
    "print(\"ALL DONE!\\n\")"
   ]
  }
 ],
 "metadata": {
  "kernelspec": {
   "display_name": "Python 3",
   "language": "python",
   "name": "python3"
  },
  "language_info": {
   "codemirror_mode": {
    "name": "ipython",
    "version": 3
   },
   "file_extension": ".py",
   "mimetype": "text/x-python",
   "name": "python",
   "nbconvert_exporter": "python",
   "pygments_lexer": "ipython3",
   "version": "3.10.4"
  },
  "orig_nbformat": 4,
  "vscode": {
   "interpreter": {
    "hash": "833ae54a1c4d6b501075c8cad16e0b637721bd5d7dccdd8aa0275ca48ae6a6ef"
   }
  }
 },
 "nbformat": 4,
 "nbformat_minor": 2
}
